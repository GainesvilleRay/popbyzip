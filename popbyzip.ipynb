{
 "cells": [
  {
   "cell_type": "code",
   "execution_count": 15,
   "metadata": {},
   "outputs": [],
   "source": [
    "#manipulate dataframes in python\n",
    "import pandas as pd\n",
    "\n",
    "#make API calls with python\n",
    "import requests\n",
    "\n",
    "#allows us to store results of API call cleanly\n",
    "import json\n",
    "\n",
    "#get my Census api key\n",
    "from apiKey import apiKey\n",
    "\n",
    "#get list of zipcodes I want to tally separated by commas\n",
    "myZips = open('myZips.txt', 'r').readlines()\n",
    "myZips = [z.replace('\\n', '') for z in myZips]\n",
    "myZips = ','.join(myZips)\n",
    "\n",
    "#put your census API key here\n",
    "myKey = apiKey\n",
    "\n",
    "#construct the API call we will use\n",
    "baseURL = \"https://api.census.gov/data/2017/acs/acs5?key=\"\n",
    "addURL = \"&get=B01003_001E&for=zip%20code%20tabulation%20area:\"\n",
    "calledAPI = f\"{baseURL}{myKey}{addURL}{myZips}\"\n",
    "\n",
    "#call the API and collect the response\n",
    "response = requests.get(calledAPI)\n",
    "\n",
    "#load the response into a JSON, ignoring the first element which is just field labels\n",
    "formattedResponse = json.loads(response.text)[1:]\n",
    "\n",
    "#flip the order of the response from [population, zipcode] -> [zipcode, population]\n",
    "formattedResponse = [item[::-1] for item in formattedResponse]\n",
    "\n",
    "#load the response into a JSON, ignoring the first element which is just field labels\n",
    "formattedResponse = json.loads(response.text)[1:]\n",
    "\n",
    "#flip the order of the response from [population, zipcode] -> [zipcode, population]\n",
    "formattedResponse = [item[::-1] for item in formattedResponse]\n",
    "\n",
    "#store the response in a dataframe\n",
    "myZipPopulations = pd.DataFrame(columns=['zipcode', 'population'], data=formattedResponse)\n",
    "\n",
    "#save that dataframe to a CSV spreadsheet\n",
    "myZipPopulations.to_csv('myZipPopulations.csv', index=False)"
   ]
  }
 ],
 "metadata": {
  "kernelspec": {
   "display_name": "Python 3",
   "language": "python",
   "name": "python3"
  },
  "language_info": {
   "codemirror_mode": {
    "name": "ipython",
    "version": 3
   },
   "file_extension": ".py",
   "mimetype": "text/x-python",
   "name": "python",
   "nbconvert_exporter": "python",
   "pygments_lexer": "ipython3",
   "version": "3.7.1"
  }
 },
 "nbformat": 4,
 "nbformat_minor": 2
}
